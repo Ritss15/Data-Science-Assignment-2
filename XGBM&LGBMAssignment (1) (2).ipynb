{
  "cells": [
    {
      "cell_type": "markdown",
      "source": [
        "# 1. Import Libraries\n"
      ],
      "metadata": {
        "id": "bfwiOAghA3y_"
      },
      "id": "bfwiOAghA3y_"
    },
    {
      "cell_type": "code",
      "execution_count": 1,
      "id": "9269f93d-6b30-4cff-b02b-e50b6be7e551",
      "metadata": {
        "id": "9269f93d-6b30-4cff-b02b-e50b6be7e551"
      },
      "outputs": [],
      "source": [
        "\n",
        "\n",
        "import pandas as pd #as we will be working with dataste we need pandas\n",
        "import numpy as np #for mathematical calculations\n",
        "import seaborn as sns #for  better visualization\n",
        "import matplotlib.pyplot as plt #for plotting gaphs\n",
        "from sklearn.model_selection import train_test_split, cross_val_score #train and testing split\n",
        "from sklearn.metrics import accuracy_score, classification_report, confusion_matrix # for model evaluation\n",
        "from sklearn.preprocessing import LabelEncoder #for data preprocessing\n",
        "import xgboost as xgb #advanced boosting algo\n",
        "import lightgbm as lgb\n",
        "\n",
        "\n"
      ]
    },
    {
      "cell_type": "markdown",
      "source": [
        "# 2. Load Datasets\n"
      ],
      "metadata": {
        "id": "WmwDr3Q5A2ZP"
      },
      "id": "WmwDr3Q5A2ZP"
    },
    {
      "cell_type": "code",
      "execution_count": 2,
      "id": "43d3dec9-61a7-4a94-9d8a-8f202865bc39",
      "metadata": {
        "id": "43d3dec9-61a7-4a94-9d8a-8f202865bc39"
      },
      "outputs": [],
      "source": [
        "test = pd.read_csv(\"/content/Titanic_test[1].csv\") #loading testing  datset in dataframe called test\n",
        "train = pd.read_csv(\"/content/Titanic_train[1].csv\") #loading training datset in dataframe called train"
      ]
    },
    {
      "cell_type": "code",
      "execution_count": 4,
      "id": "134ec9b4-5c0c-4814-8675-2cfaee46c4e1",
      "metadata": {
        "id": "134ec9b4-5c0c-4814-8675-2cfaee46c4e1",
        "colab": {
          "base_uri": "https://localhost:8080/",
          "height": 423
        },
        "outputId": "6e36fa0e-5bf4-4fb8-9b48-2ca441a541df"
      },
      "outputs": [
        {
          "output_type": "execute_result",
          "data": {
            "text/plain": [
              "     PassengerId  Survived  Pclass  \\\n",
              "0              1       0.0       3   \n",
              "1              2       1.0       1   \n",
              "2              3       1.0       3   \n",
              "3              4       1.0       1   \n",
              "4              5       0.0       3   \n",
              "..           ...       ...     ...   \n",
              "413         1305       NaN       3   \n",
              "414         1306       NaN       1   \n",
              "415         1307       NaN       3   \n",
              "416         1308       NaN       3   \n",
              "417         1309       NaN       3   \n",
              "\n",
              "                                                  Name     Sex   Age  SibSp  \\\n",
              "0                              Braund, Mr. Owen Harris    male  22.0      1   \n",
              "1    Cumings, Mrs. John Bradley (Florence Briggs Th...  female  38.0      1   \n",
              "2                               Heikkinen, Miss. Laina  female  26.0      0   \n",
              "3         Futrelle, Mrs. Jacques Heath (Lily May Peel)  female  35.0      1   \n",
              "4                             Allen, Mr. William Henry    male  35.0      0   \n",
              "..                                                 ...     ...   ...    ...   \n",
              "413                                 Spector, Mr. Woolf    male   NaN      0   \n",
              "414                       Oliva y Ocana, Dona. Fermina  female  39.0      0   \n",
              "415                       Saether, Mr. Simon Sivertsen    male  38.5      0   \n",
              "416                                Ware, Mr. Frederick    male   NaN      0   \n",
              "417                           Peter, Master. Michael J    male   NaN      1   \n",
              "\n",
              "     Parch              Ticket      Fare Cabin Embarked  \n",
              "0        0           A/5 21171    7.2500   NaN        S  \n",
              "1        0            PC 17599   71.2833   C85        C  \n",
              "2        0    STON/O2. 3101282    7.9250   NaN        S  \n",
              "3        0              113803   53.1000  C123        S  \n",
              "4        0              373450    8.0500   NaN        S  \n",
              "..     ...                 ...       ...   ...      ...  \n",
              "413      0           A.5. 3236    8.0500   NaN        S  \n",
              "414      0            PC 17758  108.9000  C105        C  \n",
              "415      0  SOTON/O.Q. 3101262    7.2500   NaN        S  \n",
              "416      0              359309    8.0500   NaN        S  \n",
              "417      1                2668   22.3583   NaN        C  \n",
              "\n",
              "[1309 rows x 12 columns]"
            ],
            "text/html": [
              "\n",
              "  <div id=\"df-b3e5e767-4afa-4c06-9fa8-cc15231119d0\" class=\"colab-df-container\">\n",
              "    <div>\n",
              "<style scoped>\n",
              "    .dataframe tbody tr th:only-of-type {\n",
              "        vertical-align: middle;\n",
              "    }\n",
              "\n",
              "    .dataframe tbody tr th {\n",
              "        vertical-align: top;\n",
              "    }\n",
              "\n",
              "    .dataframe thead th {\n",
              "        text-align: right;\n",
              "    }\n",
              "</style>\n",
              "<table border=\"1\" class=\"dataframe\">\n",
              "  <thead>\n",
              "    <tr style=\"text-align: right;\">\n",
              "      <th></th>\n",
              "      <th>PassengerId</th>\n",
              "      <th>Survived</th>\n",
              "      <th>Pclass</th>\n",
              "      <th>Name</th>\n",
              "      <th>Sex</th>\n",
              "      <th>Age</th>\n",
              "      <th>SibSp</th>\n",
              "      <th>Parch</th>\n",
              "      <th>Ticket</th>\n",
              "      <th>Fare</th>\n",
              "      <th>Cabin</th>\n",
              "      <th>Embarked</th>\n",
              "    </tr>\n",
              "  </thead>\n",
              "  <tbody>\n",
              "    <tr>\n",
              "      <th>0</th>\n",
              "      <td>1</td>\n",
              "      <td>0.0</td>\n",
              "      <td>3</td>\n",
              "      <td>Braund, Mr. Owen Harris</td>\n",
              "      <td>male</td>\n",
              "      <td>22.0</td>\n",
              "      <td>1</td>\n",
              "      <td>0</td>\n",
              "      <td>A/5 21171</td>\n",
              "      <td>7.2500</td>\n",
              "      <td>NaN</td>\n",
              "      <td>S</td>\n",
              "    </tr>\n",
              "    <tr>\n",
              "      <th>1</th>\n",
              "      <td>2</td>\n",
              "      <td>1.0</td>\n",
              "      <td>1</td>\n",
              "      <td>Cumings, Mrs. John Bradley (Florence Briggs Th...</td>\n",
              "      <td>female</td>\n",
              "      <td>38.0</td>\n",
              "      <td>1</td>\n",
              "      <td>0</td>\n",
              "      <td>PC 17599</td>\n",
              "      <td>71.2833</td>\n",
              "      <td>C85</td>\n",
              "      <td>C</td>\n",
              "    </tr>\n",
              "    <tr>\n",
              "      <th>2</th>\n",
              "      <td>3</td>\n",
              "      <td>1.0</td>\n",
              "      <td>3</td>\n",
              "      <td>Heikkinen, Miss. Laina</td>\n",
              "      <td>female</td>\n",
              "      <td>26.0</td>\n",
              "      <td>0</td>\n",
              "      <td>0</td>\n",
              "      <td>STON/O2. 3101282</td>\n",
              "      <td>7.9250</td>\n",
              "      <td>NaN</td>\n",
              "      <td>S</td>\n",
              "    </tr>\n",
              "    <tr>\n",
              "      <th>3</th>\n",
              "      <td>4</td>\n",
              "      <td>1.0</td>\n",
              "      <td>1</td>\n",
              "      <td>Futrelle, Mrs. Jacques Heath (Lily May Peel)</td>\n",
              "      <td>female</td>\n",
              "      <td>35.0</td>\n",
              "      <td>1</td>\n",
              "      <td>0</td>\n",
              "      <td>113803</td>\n",
              "      <td>53.1000</td>\n",
              "      <td>C123</td>\n",
              "      <td>S</td>\n",
              "    </tr>\n",
              "    <tr>\n",
              "      <th>4</th>\n",
              "      <td>5</td>\n",
              "      <td>0.0</td>\n",
              "      <td>3</td>\n",
              "      <td>Allen, Mr. William Henry</td>\n",
              "      <td>male</td>\n",
              "      <td>35.0</td>\n",
              "      <td>0</td>\n",
              "      <td>0</td>\n",
              "      <td>373450</td>\n",
              "      <td>8.0500</td>\n",
              "      <td>NaN</td>\n",
              "      <td>S</td>\n",
              "    </tr>\n",
              "    <tr>\n",
              "      <th>...</th>\n",
              "      <td>...</td>\n",
              "      <td>...</td>\n",
              "      <td>...</td>\n",
              "      <td>...</td>\n",
              "      <td>...</td>\n",
              "      <td>...</td>\n",
              "      <td>...</td>\n",
              "      <td>...</td>\n",
              "      <td>...</td>\n",
              "      <td>...</td>\n",
              "      <td>...</td>\n",
              "      <td>...</td>\n",
              "    </tr>\n",
              "    <tr>\n",
              "      <th>413</th>\n",
              "      <td>1305</td>\n",
              "      <td>NaN</td>\n",
              "      <td>3</td>\n",
              "      <td>Spector, Mr. Woolf</td>\n",
              "      <td>male</td>\n",
              "      <td>NaN</td>\n",
              "      <td>0</td>\n",
              "      <td>0</td>\n",
              "      <td>A.5. 3236</td>\n",
              "      <td>8.0500</td>\n",
              "      <td>NaN</td>\n",
              "      <td>S</td>\n",
              "    </tr>\n",
              "    <tr>\n",
              "      <th>414</th>\n",
              "      <td>1306</td>\n",
              "      <td>NaN</td>\n",
              "      <td>1</td>\n",
              "      <td>Oliva y Ocana, Dona. Fermina</td>\n",
              "      <td>female</td>\n",
              "      <td>39.0</td>\n",
              "      <td>0</td>\n",
              "      <td>0</td>\n",
              "      <td>PC 17758</td>\n",
              "      <td>108.9000</td>\n",
              "      <td>C105</td>\n",
              "      <td>C</td>\n",
              "    </tr>\n",
              "    <tr>\n",
              "      <th>415</th>\n",
              "      <td>1307</td>\n",
              "      <td>NaN</td>\n",
              "      <td>3</td>\n",
              "      <td>Saether, Mr. Simon Sivertsen</td>\n",
              "      <td>male</td>\n",
              "      <td>38.5</td>\n",
              "      <td>0</td>\n",
              "      <td>0</td>\n",
              "      <td>SOTON/O.Q. 3101262</td>\n",
              "      <td>7.2500</td>\n",
              "      <td>NaN</td>\n",
              "      <td>S</td>\n",
              "    </tr>\n",
              "    <tr>\n",
              "      <th>416</th>\n",
              "      <td>1308</td>\n",
              "      <td>NaN</td>\n",
              "      <td>3</td>\n",
              "      <td>Ware, Mr. Frederick</td>\n",
              "      <td>male</td>\n",
              "      <td>NaN</td>\n",
              "      <td>0</td>\n",
              "      <td>0</td>\n",
              "      <td>359309</td>\n",
              "      <td>8.0500</td>\n",
              "      <td>NaN</td>\n",
              "      <td>S</td>\n",
              "    </tr>\n",
              "    <tr>\n",
              "      <th>417</th>\n",
              "      <td>1309</td>\n",
              "      <td>NaN</td>\n",
              "      <td>3</td>\n",
              "      <td>Peter, Master. Michael J</td>\n",
              "      <td>male</td>\n",
              "      <td>NaN</td>\n",
              "      <td>1</td>\n",
              "      <td>1</td>\n",
              "      <td>2668</td>\n",
              "      <td>22.3583</td>\n",
              "      <td>NaN</td>\n",
              "      <td>C</td>\n",
              "    </tr>\n",
              "  </tbody>\n",
              "</table>\n",
              "<p>1309 rows × 12 columns</p>\n",
              "</div>\n",
              "    <div class=\"colab-df-buttons\">\n",
              "\n",
              "  <div class=\"colab-df-container\">\n",
              "    <button class=\"colab-df-convert\" onclick=\"convertToInteractive('df-b3e5e767-4afa-4c06-9fa8-cc15231119d0')\"\n",
              "            title=\"Convert this dataframe to an interactive table.\"\n",
              "            style=\"display:none;\">\n",
              "\n",
              "  <svg xmlns=\"http://www.w3.org/2000/svg\" height=\"24px\" viewBox=\"0 -960 960 960\">\n",
              "    <path d=\"M120-120v-720h720v720H120Zm60-500h600v-160H180v160Zm220 220h160v-160H400v160Zm0 220h160v-160H400v160ZM180-400h160v-160H180v160Zm440 0h160v-160H620v160ZM180-180h160v-160H180v160Zm440 0h160v-160H620v160Z\"/>\n",
              "  </svg>\n",
              "    </button>\n",
              "\n",
              "  <style>\n",
              "    .colab-df-container {\n",
              "      display:flex;\n",
              "      gap: 12px;\n",
              "    }\n",
              "\n",
              "    .colab-df-convert {\n",
              "      background-color: #E8F0FE;\n",
              "      border: none;\n",
              "      border-radius: 50%;\n",
              "      cursor: pointer;\n",
              "      display: none;\n",
              "      fill: #1967D2;\n",
              "      height: 32px;\n",
              "      padding: 0 0 0 0;\n",
              "      width: 32px;\n",
              "    }\n",
              "\n",
              "    .colab-df-convert:hover {\n",
              "      background-color: #E2EBFA;\n",
              "      box-shadow: 0px 1px 2px rgba(60, 64, 67, 0.3), 0px 1px 3px 1px rgba(60, 64, 67, 0.15);\n",
              "      fill: #174EA6;\n",
              "    }\n",
              "\n",
              "    .colab-df-buttons div {\n",
              "      margin-bottom: 4px;\n",
              "    }\n",
              "\n",
              "    [theme=dark] .colab-df-convert {\n",
              "      background-color: #3B4455;\n",
              "      fill: #D2E3FC;\n",
              "    }\n",
              "\n",
              "    [theme=dark] .colab-df-convert:hover {\n",
              "      background-color: #434B5C;\n",
              "      box-shadow: 0px 1px 3px 1px rgba(0, 0, 0, 0.15);\n",
              "      filter: drop-shadow(0px 1px 2px rgba(0, 0, 0, 0.3));\n",
              "      fill: #FFFFFF;\n",
              "    }\n",
              "  </style>\n",
              "\n",
              "    <script>\n",
              "      const buttonEl =\n",
              "        document.querySelector('#df-b3e5e767-4afa-4c06-9fa8-cc15231119d0 button.colab-df-convert');\n",
              "      buttonEl.style.display =\n",
              "        google.colab.kernel.accessAllowed ? 'block' : 'none';\n",
              "\n",
              "      async function convertToInteractive(key) {\n",
              "        const element = document.querySelector('#df-b3e5e767-4afa-4c06-9fa8-cc15231119d0');\n",
              "        const dataTable =\n",
              "          await google.colab.kernel.invokeFunction('convertToInteractive',\n",
              "                                                    [key], {});\n",
              "        if (!dataTable) return;\n",
              "\n",
              "        const docLinkHtml = 'Like what you see? Visit the ' +\n",
              "          '<a target=\"_blank\" href=https://colab.research.google.com/notebooks/data_table.ipynb>data table notebook</a>'\n",
              "          + ' to learn more about interactive tables.';\n",
              "        element.innerHTML = '';\n",
              "        dataTable['output_type'] = 'display_data';\n",
              "        await google.colab.output.renderOutput(dataTable, element);\n",
              "        const docLink = document.createElement('div');\n",
              "        docLink.innerHTML = docLinkHtml;\n",
              "        element.appendChild(docLink);\n",
              "      }\n",
              "    </script>\n",
              "  </div>\n",
              "\n",
              "\n",
              "    <div id=\"df-472aa477-399d-4c6e-9167-4f913fd96ff8\">\n",
              "      <button class=\"colab-df-quickchart\" onclick=\"quickchart('df-472aa477-399d-4c6e-9167-4f913fd96ff8')\"\n",
              "                title=\"Suggest charts\"\n",
              "                style=\"display:none;\">\n",
              "\n",
              "<svg xmlns=\"http://www.w3.org/2000/svg\" height=\"24px\"viewBox=\"0 0 24 24\"\n",
              "     width=\"24px\">\n",
              "    <g>\n",
              "        <path d=\"M19 3H5c-1.1 0-2 .9-2 2v14c0 1.1.9 2 2 2h14c1.1 0 2-.9 2-2V5c0-1.1-.9-2-2-2zM9 17H7v-7h2v7zm4 0h-2V7h2v10zm4 0h-2v-4h2v4z\"/>\n",
              "    </g>\n",
              "</svg>\n",
              "      </button>\n",
              "\n",
              "<style>\n",
              "  .colab-df-quickchart {\n",
              "      --bg-color: #E8F0FE;\n",
              "      --fill-color: #1967D2;\n",
              "      --hover-bg-color: #E2EBFA;\n",
              "      --hover-fill-color: #174EA6;\n",
              "      --disabled-fill-color: #AAA;\n",
              "      --disabled-bg-color: #DDD;\n",
              "  }\n",
              "\n",
              "  [theme=dark] .colab-df-quickchart {\n",
              "      --bg-color: #3B4455;\n",
              "      --fill-color: #D2E3FC;\n",
              "      --hover-bg-color: #434B5C;\n",
              "      --hover-fill-color: #FFFFFF;\n",
              "      --disabled-bg-color: #3B4455;\n",
              "      --disabled-fill-color: #666;\n",
              "  }\n",
              "\n",
              "  .colab-df-quickchart {\n",
              "    background-color: var(--bg-color);\n",
              "    border: none;\n",
              "    border-radius: 50%;\n",
              "    cursor: pointer;\n",
              "    display: none;\n",
              "    fill: var(--fill-color);\n",
              "    height: 32px;\n",
              "    padding: 0;\n",
              "    width: 32px;\n",
              "  }\n",
              "\n",
              "  .colab-df-quickchart:hover {\n",
              "    background-color: var(--hover-bg-color);\n",
              "    box-shadow: 0 1px 2px rgba(60, 64, 67, 0.3), 0 1px 3px 1px rgba(60, 64, 67, 0.15);\n",
              "    fill: var(--button-hover-fill-color);\n",
              "  }\n",
              "\n",
              "  .colab-df-quickchart-complete:disabled,\n",
              "  .colab-df-quickchart-complete:disabled:hover {\n",
              "    background-color: var(--disabled-bg-color);\n",
              "    fill: var(--disabled-fill-color);\n",
              "    box-shadow: none;\n",
              "  }\n",
              "\n",
              "  .colab-df-spinner {\n",
              "    border: 2px solid var(--fill-color);\n",
              "    border-color: transparent;\n",
              "    border-bottom-color: var(--fill-color);\n",
              "    animation:\n",
              "      spin 1s steps(1) infinite;\n",
              "  }\n",
              "\n",
              "  @keyframes spin {\n",
              "    0% {\n",
              "      border-color: transparent;\n",
              "      border-bottom-color: var(--fill-color);\n",
              "      border-left-color: var(--fill-color);\n",
              "    }\n",
              "    20% {\n",
              "      border-color: transparent;\n",
              "      border-left-color: var(--fill-color);\n",
              "      border-top-color: var(--fill-color);\n",
              "    }\n",
              "    30% {\n",
              "      border-color: transparent;\n",
              "      border-left-color: var(--fill-color);\n",
              "      border-top-color: var(--fill-color);\n",
              "      border-right-color: var(--fill-color);\n",
              "    }\n",
              "    40% {\n",
              "      border-color: transparent;\n",
              "      border-right-color: var(--fill-color);\n",
              "      border-top-color: var(--fill-color);\n",
              "    }\n",
              "    60% {\n",
              "      border-color: transparent;\n",
              "      border-right-color: var(--fill-color);\n",
              "    }\n",
              "    80% {\n",
              "      border-color: transparent;\n",
              "      border-right-color: var(--fill-color);\n",
              "      border-bottom-color: var(--fill-color);\n",
              "    }\n",
              "    90% {\n",
              "      border-color: transparent;\n",
              "      border-bottom-color: var(--fill-color);\n",
              "    }\n",
              "  }\n",
              "</style>\n",
              "\n",
              "      <script>\n",
              "        async function quickchart(key) {\n",
              "          const quickchartButtonEl =\n",
              "            document.querySelector('#' + key + ' button');\n",
              "          quickchartButtonEl.disabled = true;  // To prevent multiple clicks.\n",
              "          quickchartButtonEl.classList.add('colab-df-spinner');\n",
              "          try {\n",
              "            const charts = await google.colab.kernel.invokeFunction(\n",
              "                'suggestCharts', [key], {});\n",
              "          } catch (error) {\n",
              "            console.error('Error during call to suggestCharts:', error);\n",
              "          }\n",
              "          quickchartButtonEl.classList.remove('colab-df-spinner');\n",
              "          quickchartButtonEl.classList.add('colab-df-quickchart-complete');\n",
              "        }\n",
              "        (() => {\n",
              "          let quickchartButtonEl =\n",
              "            document.querySelector('#df-472aa477-399d-4c6e-9167-4f913fd96ff8 button');\n",
              "          quickchartButtonEl.style.display =\n",
              "            google.colab.kernel.accessAllowed ? 'block' : 'none';\n",
              "        })();\n",
              "      </script>\n",
              "    </div>\n",
              "\n",
              "  <div id=\"id_b2f74e77-7212-4de1-b87b-191ec5e2720a\">\n",
              "    <style>\n",
              "      .colab-df-generate {\n",
              "        background-color: #E8F0FE;\n",
              "        border: none;\n",
              "        border-radius: 50%;\n",
              "        cursor: pointer;\n",
              "        display: none;\n",
              "        fill: #1967D2;\n",
              "        height: 32px;\n",
              "        padding: 0 0 0 0;\n",
              "        width: 32px;\n",
              "      }\n",
              "\n",
              "      .colab-df-generate:hover {\n",
              "        background-color: #E2EBFA;\n",
              "        box-shadow: 0px 1px 2px rgba(60, 64, 67, 0.3), 0px 1px 3px 1px rgba(60, 64, 67, 0.15);\n",
              "        fill: #174EA6;\n",
              "      }\n",
              "\n",
              "      [theme=dark] .colab-df-generate {\n",
              "        background-color: #3B4455;\n",
              "        fill: #D2E3FC;\n",
              "      }\n",
              "\n",
              "      [theme=dark] .colab-df-generate:hover {\n",
              "        background-color: #434B5C;\n",
              "        box-shadow: 0px 1px 3px 1px rgba(0, 0, 0, 0.15);\n",
              "        filter: drop-shadow(0px 1px 2px rgba(0, 0, 0, 0.3));\n",
              "        fill: #FFFFFF;\n",
              "      }\n",
              "    </style>\n",
              "    <button class=\"colab-df-generate\" onclick=\"generateWithVariable('df')\"\n",
              "            title=\"Generate code using this dataframe.\"\n",
              "            style=\"display:none;\">\n",
              "\n",
              "  <svg xmlns=\"http://www.w3.org/2000/svg\" height=\"24px\"viewBox=\"0 0 24 24\"\n",
              "       width=\"24px\">\n",
              "    <path d=\"M7,19H8.4L18.45,9,17,7.55,7,17.6ZM5,21V16.75L18.45,3.32a2,2,0,0,1,2.83,0l1.4,1.43a1.91,1.91,0,0,1,.58,1.4,1.91,1.91,0,0,1-.58,1.4L9.25,21ZM18.45,9,17,7.55Zm-12,3A5.31,5.31,0,0,0,4.9,8.1,5.31,5.31,0,0,0,1,6.5,5.31,5.31,0,0,0,4.9,4.9,5.31,5.31,0,0,0,6.5,1,5.31,5.31,0,0,0,8.1,4.9,5.31,5.31,0,0,0,12,6.5,5.46,5.46,0,0,0,6.5,12Z\"/>\n",
              "  </svg>\n",
              "    </button>\n",
              "    <script>\n",
              "      (() => {\n",
              "      const buttonEl =\n",
              "        document.querySelector('#id_b2f74e77-7212-4de1-b87b-191ec5e2720a button.colab-df-generate');\n",
              "      buttonEl.style.display =\n",
              "        google.colab.kernel.accessAllowed ? 'block' : 'none';\n",
              "\n",
              "      buttonEl.onclick = () => {\n",
              "        google.colab.notebook.generateWithVariable('df');\n",
              "      }\n",
              "      })();\n",
              "    </script>\n",
              "  </div>\n",
              "\n",
              "    </div>\n",
              "  </div>\n"
            ],
            "application/vnd.google.colaboratory.intrinsic+json": {
              "type": "dataframe",
              "variable_name": "df",
              "summary": "{\n  \"name\": \"df\",\n  \"rows\": 1309,\n  \"fields\": [\n    {\n      \"column\": \"PassengerId\",\n      \"properties\": {\n        \"dtype\": \"number\",\n        \"std\": 378,\n        \"min\": 1,\n        \"max\": 1309,\n        \"num_unique_values\": 1309,\n        \"samples\": [\n          1149,\n          1050,\n          983\n        ],\n        \"semantic_type\": \"\",\n        \"description\": \"\"\n      }\n    },\n    {\n      \"column\": \"Survived\",\n      \"properties\": {\n        \"dtype\": \"number\",\n        \"std\": 0.4865924542648585,\n        \"min\": 0.0,\n        \"max\": 1.0,\n        \"num_unique_values\": 2,\n        \"samples\": [\n          1.0,\n          0.0\n        ],\n        \"semantic_type\": \"\",\n        \"description\": \"\"\n      }\n    },\n    {\n      \"column\": \"Pclass\",\n      \"properties\": {\n        \"dtype\": \"number\",\n        \"std\": 0,\n        \"min\": 1,\n        \"max\": 3,\n        \"num_unique_values\": 3,\n        \"samples\": [\n          3,\n          1\n        ],\n        \"semantic_type\": \"\",\n        \"description\": \"\"\n      }\n    },\n    {\n      \"column\": \"Name\",\n      \"properties\": {\n        \"dtype\": \"string\",\n        \"num_unique_values\": 1307,\n        \"samples\": [\n          \"Bryhl, Miss. Dagmar Jenny Ingeborg \",\n          \"Borebank, Mr. John James\"\n        ],\n        \"semantic_type\": \"\",\n        \"description\": \"\"\n      }\n    },\n    {\n      \"column\": \"Sex\",\n      \"properties\": {\n        \"dtype\": \"category\",\n        \"num_unique_values\": 2,\n        \"samples\": [\n          \"female\",\n          \"male\"\n        ],\n        \"semantic_type\": \"\",\n        \"description\": \"\"\n      }\n    },\n    {\n      \"column\": \"Age\",\n      \"properties\": {\n        \"dtype\": \"number\",\n        \"std\": 14.413493211271334,\n        \"min\": 0.17,\n        \"max\": 80.0,\n        \"num_unique_values\": 98,\n        \"samples\": [\n          45.5,\n          23.0\n        ],\n        \"semantic_type\": \"\",\n        \"description\": \"\"\n      }\n    },\n    {\n      \"column\": \"SibSp\",\n      \"properties\": {\n        \"dtype\": \"number\",\n        \"std\": 1,\n        \"min\": 0,\n        \"max\": 8,\n        \"num_unique_values\": 7,\n        \"samples\": [\n          1,\n          0\n        ],\n        \"semantic_type\": \"\",\n        \"description\": \"\"\n      }\n    },\n    {\n      \"column\": \"Parch\",\n      \"properties\": {\n        \"dtype\": \"number\",\n        \"std\": 0,\n        \"min\": 0,\n        \"max\": 9,\n        \"num_unique_values\": 8,\n        \"samples\": [\n          1,\n          4\n        ],\n        \"semantic_type\": \"\",\n        \"description\": \"\"\n      }\n    },\n    {\n      \"column\": \"Ticket\",\n      \"properties\": {\n        \"dtype\": \"string\",\n        \"num_unique_values\": 929,\n        \"samples\": [\n          \"PC 17531\",\n          \"345765\"\n        ],\n        \"semantic_type\": \"\",\n        \"description\": \"\"\n      }\n    },\n    {\n      \"column\": \"Fare\",\n      \"properties\": {\n        \"dtype\": \"number\",\n        \"std\": 51.75866823917414,\n        \"min\": 0.0,\n        \"max\": 512.3292,\n        \"num_unique_values\": 281,\n        \"samples\": [\n          11.2417,\n          35.0\n        ],\n        \"semantic_type\": \"\",\n        \"description\": \"\"\n      }\n    },\n    {\n      \"column\": \"Cabin\",\n      \"properties\": {\n        \"dtype\": \"category\",\n        \"num_unique_values\": 186,\n        \"samples\": [\n          \"B71\",\n          \"C51\"\n        ],\n        \"semantic_type\": \"\",\n        \"description\": \"\"\n      }\n    },\n    {\n      \"column\": \"Embarked\",\n      \"properties\": {\n        \"dtype\": \"category\",\n        \"num_unique_values\": 3,\n        \"samples\": [\n          \"S\",\n          \"C\"\n        ],\n        \"semantic_type\": \"\",\n        \"description\": \"\"\n      }\n    }\n  ]\n}"
            }
          },
          "metadata": {},
          "execution_count": 4
        }
      ],
      "source": [
        "df = pd.concat([train, test], sort=False) #combined both datasets into one dataframe called df for preprocessing puposes\n",
        "df"
      ]
    },
    {
      "cell_type": "markdown",
      "source": [
        "# 3. Exploratory Data Analysis\n"
      ],
      "metadata": {
        "id": "SaOdzlyRA9pT"
      },
      "id": "SaOdzlyRA9pT"
    },
    {
      "cell_type": "code",
      "execution_count": 5,
      "id": "fb8032c9-af1f-4931-b2dd-59c85e5361ef",
      "metadata": {
        "id": "fb8032c9-af1f-4931-b2dd-59c85e5361ef",
        "outputId": "425860f8-80c9-40a8-d03d-89468a121e54",
        "colab": {
          "base_uri": "https://localhost:8080/"
        }
      },
      "outputs": [
        {
          "output_type": "stream",
          "name": "stdout",
          "text": [
            "Missing values:\n",
            " PassengerId       0\n",
            "Survived        418\n",
            "Pclass            0\n",
            "Name              0\n",
            "Sex               0\n",
            "Age             263\n",
            "SibSp             0\n",
            "Parch             0\n",
            "Ticket            0\n",
            "Fare              1\n",
            "Cabin          1014\n",
            "Embarked          2\n",
            "dtype: int64\n"
          ]
        }
      ],
      "source": [
        "print(\"Missing values:\\n\", df.isnull().sum())"
      ]
    },
    {
      "cell_type": "markdown",
      "source": [
        "Visualizations using different graphs"
      ],
      "metadata": {
        "id": "YNmXhptNCclO"
      },
      "id": "YNmXhptNCclO"
    },
    {
      "cell_type": "code",
      "execution_count": 6,
      "id": "48ba44c5-7186-4a96-aaf5-ef689f5b7ca0",
      "metadata": {
        "id": "48ba44c5-7186-4a96-aaf5-ef689f5b7ca0",
        "outputId": "7dd355c5-1ad0-4865-e4a5-de063bb27946",
        "colab": {
          "base_uri": "https://localhost:8080/",
          "height": 472
        }
      },
      "outputs": [
        {
          "output_type": "display_data",
          "data": {
            "text/plain": [
              "<Figure size 640x480 with 1 Axes>"
            ],
            "image/png": "[encoded data removed]"
          },
          "metadata": {}
        }
      ],
      "source": [
        "sns.countplot(data=train, x='Survived')\n",
        "plt.title('Survival Distribution')\n",
        "plt.show()"
      ]
    },
    {
      "cell_type": "code",
      "execution_count": 7,
      "id": "181f784f-34a2-4aa3-8385-d76c29604de7",
      "metadata": {
        "id": "181f784f-34a2-4aa3-8385-d76c29604de7",
        "outputId": "23c5e1d8-6575-4438-8a7a-a2c8e21c0584",
        "colab": {
          "base_uri": "https://localhost:8080/",
          "height": 472
        }
      },
      "outputs": [
        {
          "output_type": "display_data",
          "data": {
            "text/plain": [
              "<Figure size 640x480 with 1 Axes>"
            ],
            "image/png": "[encoded data removed]"
          },
          "metadata": {}
        }
      ],
      "source": [
        "sns.histplot(data=train, x='Age', hue='Survived', kde=True) # plotting a histogram\n",
        "plt.title('Age Distribution by Survival')\n",
        "plt.show()"
      ]
    },
    {
      "cell_type": "code",
      "execution_count": 8,
      "id": "cc4361bf-1e2f-4463-99c8-109fa77dbefd",
      "metadata": {
        "id": "cc4361bf-1e2f-4463-99c8-109fa77dbefd",
        "outputId": "11595bc9-4473-4671-c414-d24e90522ae0",
        "colab": {
          "base_uri": "https://localhost:8080/",
          "height": 472
        }
      },
      "outputs": [
        {
          "output_type": "display_data",
          "data": {
            "text/plain": [
              "<Figure size 640x480 with 1 Axes>"
            ],
            "image/png": "[encoded data removed]"
          },
          "metadata": {}
        }
      ],
      "source": [
        "sns.boxplot(data=train, x='Pclass', y='Age') #plotting a box plot as it confirms whether outliers are there or not\n",
        "plt.title('Age vs Pclass')\n",
        "plt.show()"
      ]
    },
    {
      "cell_type": "markdown",
      "source": [
        "# 4. Data Preprocessing\n"
      ],
      "metadata": {
        "id": "npJzeH1YBNiV"
      },
      "id": "npJzeH1YBNiV"
    },
    {
      "cell_type": "code",
      "execution_count": 9,
      "id": "3a1e188c-c941-4f2a-a19e-eb03c5c1da34",
      "metadata": {
        "id": "3a1e188c-c941-4f2a-a19e-eb03c5c1da34"
      },
      "outputs": [],
      "source": [
        "df['Age'] = df['Age'].fillna(df['Age'].median()) #filling missing values\n",
        "df['Fare'] = df['Fare'].fillna(df['Fare'].median())\n",
        "df['Embarked'] = df['Embarked'].fillna(df['Embarked'].mode()[0])"
      ]
    },
    {
      "cell_type": "code",
      "execution_count": 10,
      "id": "2b680e03-9bff-4731-aa3a-031cb3265028",
      "metadata": {
        "id": "2b680e03-9bff-4731-aa3a-031cb3265028"
      },
      "outputs": [],
      "source": [
        "df.drop(['Cabin', 'Name', 'Ticket', 'PassengerId'], axis=1, inplace=True) ## Dropping unnecessary columns"
      ]
    },
    {
      "cell_type": "code",
      "execution_count": 11,
      "id": "741a2e81-9be0-4d89-acb2-0cec4c015bbe",
      "metadata": {
        "id": "741a2e81-9be0-4d89-acb2-0cec4c015bbe"
      },
      "outputs": [],
      "source": [
        "le = LabelEncoder() ## Encode categorical features as  model requires data in nmerical format\n",
        "df['Sex'] = le.fit_transform(df['Sex'])\n",
        "df['Embarked'] = le.fit_transform(df['Embarked'])"
      ]
    },
    {
      "cell_type": "code",
      "execution_count": 12,
      "id": "ac388c1d-5218-42c4-a68c-e43bdee7fe72",
      "metadata": {
        "id": "ac388c1d-5218-42c4-a68c-e43bdee7fe72"
      },
      "outputs": [],
      "source": [
        "train_cleaned = df[:len(train)] #resplit\n",
        "test_cleaned = df[len(train):]"
      ]
    },
    {
      "cell_type": "code",
      "execution_count": 13,
      "id": "c3e6f76f-7274-432f-894a-217dfe59ede0",
      "metadata": {
        "id": "c3e6f76f-7274-432f-894a-217dfe59ede0"
      },
      "outputs": [],
      "source": [
        "X = train_cleaned.drop('Survived', axis=1) #preprocessed data\n",
        "y = train_cleaned['Survived']\n"
      ]
    },
    {
      "cell_type": "code",
      "execution_count": 14,
      "id": "f0b09c15-7848-44b5-b336-3d8ca1a446b4",
      "metadata": {
        "id": "f0b09c15-7848-44b5-b336-3d8ca1a446b4"
      },
      "outputs": [],
      "source": [
        "from sklearn.model_selection import train_test_split\n",
        "X_train, X_val, y_train, y_val = train_test_split(X, y, test_size=0.2, random_state=42)\n"
      ]
    },
    {
      "cell_type": "code",
      "execution_count": 15,
      "id": "8f14e615-cbf8-452c-917e-25cc534e8598",
      "metadata": {
        "id": "8f14e615-cbf8-452c-917e-25cc534e8598"
      },
      "outputs": [],
      "source": [
        "# Step: Define features and target from cleaned train data\n",
        "X = train_cleaned.drop('Survived', axis=1)\n",
        "y = train_cleaned['Survived']\n",
        "\n",
        "# Step: Split into train and validation sets\n",
        "X_train, X_val, y_train, y_val = train_test_split(X, y, test_size=0.2, random_state=42)\n"
      ]
    },
    {
      "cell_type": "code",
      "execution_count": 16,
      "id": "8040f2a1-c6a7-4ed1-b5ad-0c8434dc1834",
      "metadata": {
        "id": "8040f2a1-c6a7-4ed1-b5ad-0c8434dc1834",
        "colab": {
          "base_uri": "https://localhost:8080/"
        },
        "outputId": "2d841945-4378-4135-8f12-e975e08cb682"
      },
      "outputs": [
        {
          "output_type": "stream",
          "name": "stdout",
          "text": [
            "Requirement already satisfied: lightgbm in /usr/local/lib/python3.12/dist-packages (4.6.0)\n",
            "Requirement already satisfied: numpy>=1.17.0 in /usr/local/lib/python3.12/dist-packages (from lightgbm) (2.0.2)\n",
            "Requirement already satisfied: scipy in /usr/local/lib/python3.12/dist-packages (from lightgbm) (1.16.1)\n"
          ]
        }
      ],
      "source": [
        "!pip install lightgbm"
      ]
    },
    {
      "cell_type": "markdown",
      "source": [
        "# 6. LightGBM Model\n"
      ],
      "metadata": {
        "id": "spWjtoxHBV_N"
      },
      "id": "spWjtoxHBV_N"
    },
    {
      "cell_type": "code",
      "execution_count": 17,
      "id": "094c5eb7-0d16-49cb-8ed2-4373ee7545d0",
      "metadata": {
        "id": "094c5eb7-0d16-49cb-8ed2-4373ee7545d0",
        "colab": {
          "base_uri": "https://localhost:8080/"
        },
        "outputId": "32d30712-16c7-4688-c851-d10c80f0cc1e"
      },
      "outputs": [
        {
          "output_type": "stream",
          "name": "stdout",
          "text": [
            "[LightGBM] [Info] Number of positive: 268, number of negative: 444\n",
            "[LightGBM] [Info] Auto-choosing row-wise multi-threading, the overhead of testing was 0.000410 seconds.\n",
            "You can set `force_row_wise=true` to remove the overhead.\n",
            "And if memory is not enough, you can set `force_col_wise=true`.\n",
            "[LightGBM] [Info] Total Bins 194\n",
            "[LightGBM] [Info] Number of data points in the train set: 712, number of used features: 7\n",
            "[LightGBM] [Info] [binary:BoostFromScore]: pavg=0.376404 -> initscore=-0.504838\n",
            "[LightGBM] [Info] Start training from score -0.504838\n",
            "[LightGBM] [Warning] No further splits with positive gain, best gain: -inf\n",
            "[LightGBM] [Warning] No further splits with positive gain, best gain: -inf\n",
            "[LightGBM] [Warning] No further splits with positive gain, best gain: -inf\n",
            "[LightGBM] [Warning] No further splits with positive gain, best gain: -inf\n",
            "[LightGBM] [Warning] No further splits with positive gain, best gain: -inf\n",
            "[LightGBM] [Warning] No further splits with positive gain, best gain: -inf\n",
            "[LightGBM] [Warning] No further splits with positive gain, best gain: -inf\n",
            "[LightGBM] [Warning] No further splits with positive gain, best gain: -inf\n",
            "[LightGBM] [Warning] No further splits with positive gain, best gain: -inf\n",
            "[LightGBM] [Warning] No further splits with positive gain, best gain: -inf\n",
            "[LightGBM] [Warning] No further splits with positive gain, best gain: -inf\n",
            "[LightGBM] [Warning] No further splits with positive gain, best gain: -inf\n",
            "[LightGBM] [Warning] No further splits with positive gain, best gain: -inf\n",
            "[LightGBM] [Warning] No further splits with positive gain, best gain: -inf\n",
            "[LightGBM] [Warning] No further splits with positive gain, best gain: -inf\n",
            "[LightGBM] [Warning] No further splits with positive gain, best gain: -inf\n",
            "[LightGBM] [Warning] No further splits with positive gain, best gain: -inf\n",
            "[LightGBM] [Warning] No further splits with positive gain, best gain: -inf\n",
            "[LightGBM] [Warning] No further splits with positive gain, best gain: -inf\n",
            "[LightGBM] [Warning] No further splits with positive gain, best gain: -inf\n",
            "[LightGBM] [Warning] No further splits with positive gain, best gain: -inf\n",
            "[LightGBM] [Warning] No further splits with positive gain, best gain: -inf\n",
            "[LightGBM] [Warning] No further splits with positive gain, best gain: -inf\n",
            "[LightGBM] [Warning] No further splits with positive gain, best gain: -inf\n",
            "[LightGBM] [Warning] No further splits with positive gain, best gain: -inf\n",
            "[LightGBM] [Warning] No further splits with positive gain, best gain: -inf\n",
            "[LightGBM] [Warning] No further splits with positive gain, best gain: -inf\n",
            "[LightGBM] [Warning] No further splits with positive gain, best gain: -inf\n",
            "[LightGBM] [Warning] No further splits with positive gain, best gain: -inf\n",
            "[LightGBM] [Warning] No further splits with positive gain, best gain: -inf\n",
            "[LightGBM] [Warning] No further splits with positive gain, best gain: -inf\n",
            "[LightGBM] [Warning] No further splits with positive gain, best gain: -inf\n",
            "[LightGBM] [Warning] No further splits with positive gain, best gain: -inf\n",
            "[LightGBM] [Warning] No further splits with positive gain, best gain: -inf\n",
            "[LightGBM] [Warning] No further splits with positive gain, best gain: -inf\n",
            "[LightGBM] [Warning] No further splits with positive gain, best gain: -inf\n",
            "[LightGBM] [Warning] No further splits with positive gain, best gain: -inf\n",
            "[LightGBM] [Warning] No further splits with positive gain, best gain: -inf\n",
            "[LightGBM] [Warning] No further splits with positive gain, best gain: -inf\n",
            "[LightGBM] [Warning] No further splits with positive gain, best gain: -inf\n",
            "[LightGBM] [Warning] No further splits with positive gain, best gain: -inf\n",
            "[LightGBM] [Warning] No further splits with positive gain, best gain: -inf\n",
            "[LightGBM] [Warning] No further splits with positive gain, best gain: -inf\n",
            "[LightGBM] [Warning] No further splits with positive gain, best gain: -inf\n",
            "[LightGBM] [Warning] No further splits with positive gain, best gain: -inf\n",
            "[LightGBM] [Warning] No further splits with positive gain, best gain: -inf\n",
            "[LightGBM] [Warning] No further splits with positive gain, best gain: -inf\n",
            "[LightGBM] [Warning] No further splits with positive gain, best gain: -inf\n",
            "[LightGBM] [Warning] No further splits with positive gain, best gain: -inf\n",
            "[LightGBM] [Warning] No further splits with positive gain, best gain: -inf\n",
            "[LightGBM] [Warning] No further splits with positive gain, best gain: -inf\n",
            "[LightGBM] [Warning] No further splits with positive gain, best gain: -inf\n",
            "[LightGBM] [Warning] No further splits with positive gain, best gain: -inf\n",
            "[LightGBM] [Warning] No further splits with positive gain, best gain: -inf\n",
            "[LightGBM] [Warning] No further splits with positive gain, best gain: -inf\n",
            "[LightGBM] [Warning] No further splits with positive gain, best gain: -inf\n",
            "[LightGBM] [Warning] No further splits with positive gain, best gain: -inf\n",
            "[LightGBM] [Warning] No further splits with positive gain, best gain: -inf\n",
            "[LightGBM] [Warning] No further splits with positive gain, best gain: -inf\n",
            "[LightGBM] [Warning] No further splits with positive gain, best gain: -inf\n",
            "[LightGBM] [Warning] No further splits with positive gain, best gain: -inf\n",
            "[LightGBM] [Warning] No further splits with positive gain, best gain: -inf\n",
            "[LightGBM] [Warning] No further splits with positive gain, best gain: -inf\n",
            "[LightGBM] [Warning] No further splits with positive gain, best gain: -inf\n",
            "[LightGBM] [Warning] No further splits with positive gain, best gain: -inf\n",
            "[LightGBM] [Warning] No further splits with positive gain, best gain: -inf\n",
            "[LightGBM] [Warning] No further splits with positive gain, best gain: -inf\n",
            "[LightGBM] [Warning] No further splits with positive gain, best gain: -inf\n",
            "[LightGBM] [Warning] No further splits with positive gain, best gain: -inf\n",
            "[LightGBM] [Warning] No further splits with positive gain, best gain: -inf\n",
            "[LightGBM] [Warning] No further splits with positive gain, best gain: -inf\n",
            "[LightGBM] [Warning] No further splits with positive gain, best gain: -inf\n",
            "[LightGBM] [Warning] No further splits with positive gain, best gain: -inf\n",
            "[LightGBM] [Warning] No further splits with positive gain, best gain: -inf\n",
            "[LightGBM] [Warning] No further splits with positive gain, best gain: -inf\n",
            "[LightGBM] [Warning] No further splits with positive gain, best gain: -inf\n",
            "[LightGBM] [Warning] No further splits with positive gain, best gain: -inf\n",
            "[LightGBM] [Warning] No further splits with positive gain, best gain: -inf\n",
            "[LightGBM] [Warning] No further splits with positive gain, best gain: -inf\n",
            "[LightGBM] [Warning] No further splits with positive gain, best gain: -inf\n",
            "[LightGBM] [Warning] No further splits with positive gain, best gain: -inf\n",
            "[LightGBM] [Warning] No further splits with positive gain, best gain: -inf\n",
            "[LightGBM] [Warning] No further splits with positive gain, best gain: -inf\n",
            "[LightGBM] [Warning] No further splits with positive gain, best gain: -inf\n",
            "[LightGBM] [Warning] No further splits with positive gain, best gain: -inf\n",
            "[LightGBM] [Warning] No further splits with positive gain, best gain: -inf\n",
            "[LightGBM] [Warning] No further splits with positive gain, best gain: -inf\n",
            "[LightGBM] [Warning] No further splits with positive gain, best gain: -inf\n",
            "[LightGBM] [Warning] No further splits with positive gain, best gain: -inf\n",
            "[LightGBM] [Warning] No further splits with positive gain, best gain: -inf\n",
            "[LightGBM] [Warning] No further splits with positive gain, best gain: -inf\n",
            "[LightGBM] [Warning] No further splits with positive gain, best gain: -inf\n",
            "[LightGBM] [Warning] No further splits with positive gain, best gain: -inf\n",
            "[LightGBM] [Warning] No further splits with positive gain, best gain: -inf\n",
            "[LightGBM] [Warning] No further splits with positive gain, best gain: -inf\n",
            "[LightGBM] [Warning] No further splits with positive gain, best gain: -inf\n",
            "[LightGBM] [Warning] No further splits with positive gain, best gain: -inf\n"
          ]
        }
      ],
      "source": [
        "lgb_model = lgb.LGBMClassifier(random_state=42)\n",
        "lgb_model.fit(X_train, y_train)\n",
        "lgb_pred = lgb_model.predict(X_val)"
      ]
    },
    {
      "cell_type": "code",
      "execution_count": 18,
      "id": "fb4dcf9b-6a16-44c7-96e8-bb1bda52ad3d",
      "metadata": {
        "id": "fb4dcf9b-6a16-44c7-96e8-bb1bda52ad3d",
        "colab": {
          "base_uri": "https://localhost:8080/"
        },
        "outputId": "defec105-a3cc-496b-862b-bf0c5f9ff335"
      },
      "outputs": [
        {
          "output_type": "stream",
          "name": "stdout",
          "text": [
            "\n",
            "✅ LightGBM Results:\n",
            "Accuracy: 0.8212290502793296\n",
            "              precision    recall  f1-score   support\n",
            "\n",
            "         0.0       0.85      0.85      0.85       105\n",
            "         1.0       0.78      0.78      0.78        74\n",
            "\n",
            "    accuracy                           0.82       179\n",
            "   macro avg       0.82      0.82      0.82       179\n",
            "weighted avg       0.82      0.82      0.82       179\n",
            "\n"
          ]
        }
      ],
      "source": [
        "print(\"\\n✅ LightGBM Results:\")\n",
        "print(\"Accuracy:\", accuracy_score(y_val, lgb_pred))\n",
        "print(classification_report(y_val, lgb_pred))"
      ]
    },
    {
      "cell_type": "markdown",
      "source": [
        "# 7. XGBoost Model\n"
      ],
      "metadata": {
        "id": "mDNlNkWgBZCg"
      },
      "id": "mDNlNkWgBZCg"
    },
    {
      "cell_type": "code",
      "execution_count": 19,
      "id": "0c13744a-1171-49ef-a594-6d265d70d99e",
      "metadata": {
        "id": "0c13744a-1171-49ef-a594-6d265d70d99e",
        "colab": {
          "base_uri": "https://localhost:8080/"
        },
        "outputId": "d0ccc4c8-909c-4e7f-81ae-eb0a95408bb9"
      },
      "outputs": [
        {
          "output_type": "stream",
          "name": "stderr",
          "text": [
            "/usr/local/lib/python3.12/dist-packages/xgboost/training.py:183: UserWarning: [16:10:44] WARNING: /workspace/src/learner.cc:738: \n",
            "Parameters: { \"use_label_encoder\" } are not used.\n",
            "\n",
            "  bst.update(dtrain, iteration=i, fobj=obj)\n"
          ]
        }
      ],
      "source": [
        "xgb_model = xgb.XGBClassifier(use_label_encoder=False, eval_metric='logloss', random_state=42)\n",
        "xgb_model.fit(X_train, y_train)\n",
        "xgb_pred = xgb_model.predict(X_val)"
      ]
    },
    {
      "cell_type": "code",
      "execution_count": 20,
      "id": "f139fd4f-6de4-43f8-8671-a070b628b047",
      "metadata": {
        "id": "f139fd4f-6de4-43f8-8671-a070b628b047",
        "colab": {
          "base_uri": "https://localhost:8080/"
        },
        "outputId": "7a931df2-d3fe-4603-f71b-7ed3fa36c180"
      },
      "outputs": [
        {
          "output_type": "stream",
          "name": "stdout",
          "text": [
            "\n",
            "✅ XGBoost Results:\n",
            "Accuracy: 0.7988826815642458\n",
            "              precision    recall  f1-score   support\n",
            "\n",
            "         0.0       0.83      0.83      0.83       105\n",
            "         1.0       0.76      0.76      0.76        74\n",
            "\n",
            "    accuracy                           0.80       179\n",
            "   macro avg       0.79      0.79      0.79       179\n",
            "weighted avg       0.80      0.80      0.80       179\n",
            "\n"
          ]
        }
      ],
      "source": [
        "print(\"\\n✅ XGBoost Results:\")\n",
        "print(\"Accuracy:\", accuracy_score(y_val, xgb_pred))\n",
        "print(classification_report(y_val, xgb_pred))"
      ]
    },
    {
      "cell_type": "markdown",
      "source": [
        "# 8. Confusion Matrices\n"
      ],
      "metadata": {
        "id": "NVJ4YYosBbZx"
      },
      "id": "NVJ4YYosBbZx"
    },
    {
      "cell_type": "code",
      "execution_count": 21,
      "id": "2a49defc-5690-4f1e-90ce-4ebc59d7038a",
      "metadata": {
        "id": "2a49defc-5690-4f1e-90ce-4ebc59d7038a",
        "colab": {
          "base_uri": "https://localhost:8080/",
          "height": 451
        },
        "outputId": "7593f35e-8d53-4169-84ef-7878d59d7352"
      },
      "outputs": [
        {
          "output_type": "display_data",
          "data": {
            "text/plain": [
              "<Figure size 1200x500 with 2 Axes>"
            ],
            "image/png": "[encoded data removed]"
          },
          "metadata": {}
        }
      ],
      "source": [
        "fig, axes = plt.subplots(1, 2, figsize=(12, 5))"
      ]
    },
    {
      "cell_type": "code",
      "execution_count": 22,
      "id": "5f479c69-d866-4be3-9a8a-0cab62c8e4f7",
      "metadata": {
        "id": "5f479c69-d866-4be3-9a8a-0cab62c8e4f7",
        "colab": {
          "base_uri": "https://localhost:8080/"
        },
        "outputId": "ffd0639d-d798-4915-e5e2-5c51fa32c159"
      },
      "outputs": [
        {
          "output_type": "execute_result",
          "data": {
            "text/plain": [
              "Text(120.72222222222221, 0.5, 'Actual')"
            ]
          },
          "metadata": {},
          "execution_count": 22
        }
      ],
      "source": [
        "sns.heatmap(confusion_matrix(y_val, lgb_pred), annot=True, fmt='d', ax=axes[0], cmap='Blues')\n",
        "axes[0].set_title(\"LightGBM Confusion Matrix\")\n",
        "axes[0].set_xlabel(\"Predicted\")\n",
        "axes[0].set_ylabel(\"Actual\")"
      ]
    },
    {
      "cell_type": "code",
      "execution_count": 23,
      "id": "31ef2bea-c55b-48a3-82d3-80a819c66994",
      "metadata": {
        "id": "31ef2bea-c55b-48a3-82d3-80a819c66994",
        "colab": {
          "base_uri": "https://localhost:8080/"
        },
        "outputId": "5c124968-beb6-4817-febc-552fa43dd766"
      },
      "outputs": [
        {
          "output_type": "execute_result",
          "data": {
            "text/plain": [
              "Text(627.9949494949494, 0.5, 'Actual')"
            ]
          },
          "metadata": {},
          "execution_count": 23
        }
      ],
      "source": [
        "sns.heatmap(confusion_matrix(y_val, xgb_pred), annot=True, fmt='d', ax=axes[1], cmap='Greens')\n",
        "axes[1].set_title(\"XGBoost Confusion Matrix\")\n",
        "axes[1].set_xlabel(\"Predicted\")\n",
        "axes[1].set_ylabel(\"Actual\")"
      ]
    },
    {
      "cell_type": "code",
      "execution_count": 25,
      "id": "2e0646cc-cb54-4bad-a3c2-27b2325d8c7e",
      "metadata": {
        "id": "2e0646cc-cb54-4bad-a3c2-27b2325d8c7e",
        "colab": {
          "base_uri": "https://localhost:8080/",
          "height": 35
        },
        "outputId": "b6d23ac6-1a9c-4e7f-b12b-16a6348c8e42"
      },
      "outputs": [
        {
          "output_type": "display_data",
          "data": {
            "text/plain": [
              "<Figure size 640x480 with 0 Axes>"
            ]
          },
          "metadata": {}
        }
      ],
      "source": [
        "plt.tight_layout()\n",
        "plt.show()"
      ]
    }
  ],
  "metadata": {
    "kernelspec": {
      "display_name": "Python 3 (ipykernel)",
      "language": "python",
      "name": "python3"
    },
    "language_info": {
      "codemirror_mode": {
        "name": "ipython",
        "version": 3
      },
      "file_extension": ".py",
      "mimetype": "text/x-python",
      "name": "python",
      "nbconvert_exporter": "python",
      "pygments_lexer": "ipython3",
      "version": "3.12.4"
    },
    "colab": {
      "provenance": []
    }
  },
  "nbformat": 4,
  "nbformat_minor": 5
}